{
 "cells": [
  {
   "cell_type": "markdown",
   "metadata": {},
   "source": [
    "#  Coursera Capstone Project - The Battle of Neighbourhoods\n"
   ]
  },
  {
   "cell_type": "markdown",
   "metadata": {},
   "source": [
    "### Introduction "
   ]
  },
  {
   "cell_type": "markdown",
   "metadata": {},
   "source": [
    "You don't have to be Italian to like pizza. I mean a good pizza, made according to an old Italian recipe.   \n",
    "Then a delicious espresso. Yes, a well crafted espresso tastes great. And ice cream. \n",
    "  \n",
    "  \n",
    "In this project, I'm going to **explore the location** of good, high rated **Italian restaurants** in New York City and **find a place where such a restaurant is missing**.  \n",
    "  \n",
    "New York City is the largest and most populous city in the United States, 2018 it's population was 8,398,748. It consists of five boroughs – Brooklyn, Queens, Manhattan, The Bronx, and Staten Island, each of which is a separate county of the State of New York. Each borough has its own demographic, cultural, linguistic and financial specificities.   \n",
    "  \n",
    "Perhaps there are relationships which allow to **predict, which place is ideal for opening a new Italian restaurant**.\n",
    "We also will list and visualise all major parts of New York City that has great Italian restaurants.  \n",
    "  "
   ]
  },
  {
   "cell_type": "markdown",
   "metadata": {},
   "source": [
    "#### Goal and stakeholders "
   ]
  },
  {
   "cell_type": "markdown",
   "metadata": {},
   "source": [
    "The goal of this project is to explore the following questions:  \n",
    "**1. What is best location in New York City for italian cuisine?**  \n",
    "**2. Which areas lack italian resturants?  **\n",
    "\n",
    "**Stakeholders** interested in the problem:  \n",
    "Investors planning to open an Italian restaurant\n"
   ]
  },
  {
   "cell_type": "code",
   "execution_count": null,
   "metadata": {},
   "outputs": [],
   "source": []
  }
 ],
 "metadata": {
  "kernelspec": {
   "display_name": "Python 3",
   "language": "python",
   "name": "python3"
  },
  "language_info": {
   "codemirror_mode": {
    "name": "ipython",
    "version": 3
   },
   "file_extension": ".py",
   "mimetype": "text/x-python",
   "name": "python",
   "nbconvert_exporter": "python",
   "pygments_lexer": "ipython3",
   "version": "3.6.5"
  }
 },
 "nbformat": 4,
 "nbformat_minor": 2
}
