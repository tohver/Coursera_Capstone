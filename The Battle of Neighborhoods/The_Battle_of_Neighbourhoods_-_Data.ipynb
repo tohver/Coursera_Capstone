{
 "cells": [
  {
   "cell_type": "markdown",
   "metadata": {},
   "source": [
    "# Coursera Capstone Project - The Battle of Neighbourhoods"
   ]
  },
  {
   "cell_type": "markdown",
   "metadata": {},
   "source": [
    "### Data \n",
    "We will use the following data:"
   ]
  },
  {
   "cell_type": "markdown",
   "metadata": {},
   "source": [
    "#### 1. New York City data to explore various neighborhoods of New York City.   \n",
    "This dataset covers boroughs along with their neighborhoods, latitude and longitude  \n",
    "\n",
    "Dataset source:   \n",
    "https://geo.nyu.edu/catalog/nyu_2451_34572\n",
    " "
   ]
  },
  {
   "cell_type": "markdown",
   "metadata": {},
   "source": [
    "####  2. GeoSpace data\n",
    "The geo space data allow to get the New York Borough boundaries.   \n",
    "It let us visualize choropleth map.  \n",
    "  \n",
    "Source:   \n",
    "https://data.cityofnewyork.us/City-Government/Borough-Boundaries/tqmj-j8zm\n"
   ]
  },
  {
   "cell_type": "markdown",
   "metadata": {},
   "source": [
    "#### 3. Location of the Italian restaurants in New York City\n",
    "\n",
    "a) By using the Fousquare API we will get all the venues in each neighborhood.   \n",
    "b) Then we can filter out only Italian restaurants.  \n",
    "c) We can also find ratings, tips and like count for each restaurant.   \n",
    "That allows us to sort and visualize the data.  \n",
    "\n",
    "Source:   \n",
    "**Fousquare API**  \n",
    " "
   ]
  },
  {
   "cell_type": "code",
   "execution_count": null,
   "metadata": {},
   "outputs": [],
   "source": []
  }
 ],
 "metadata": {
  "kernelspec": {
   "display_name": "Python 3",
   "language": "python",
   "name": "python3"
  },
  "language_info": {
   "codemirror_mode": {
    "name": "ipython",
    "version": 3
   },
   "file_extension": ".py",
   "mimetype": "text/x-python",
   "name": "python",
   "nbconvert_exporter": "python",
   "pygments_lexer": "ipython3",
   "version": "3.6.5"
  }
 },
 "nbformat": 4,
 "nbformat_minor": 2
}
